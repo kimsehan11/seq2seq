{
  "cells": [
    {
      "cell_type": "markdown",
      "id": "970fa91f",
      "metadata": {
        "id": "970fa91f"
      },
      "source": [
        "# Seq2Seq Q&A chatbot 구현"
      ]
    },
    {
      "cell_type": "code",
      "execution_count": 1,
      "id": "ea77cbb2",
      "metadata": {
        "id": "ea77cbb2"
      },
      "outputs": [],
      "source": [
        "# !pip install tensorflow\n",
        "# !pip install sentencepiece"
      ]
    },
    {
      "cell_type": "code",
      "execution_count": 2,
      "id": "0d60d57d",
      "metadata": {
        "colab": {
          "base_uri": "https://localhost:8080/",
          "height": 424
        },
        "id": "0d60d57d",
        "outputId": "30d72a76-01df-4c46-ef17-1fb63814fe6f"
      },
      "outputs": [
        {
          "data": {
            "application/vnd.google.colaboratory.intrinsic+json": {
              "summary": "{\n  \"name\": \"df\",\n  \"rows\": 11823,\n  \"fields\": [\n    {\n      \"column\": \"Q\",\n      \"properties\": {\n        \"dtype\": \"string\",\n        \"num_unique_values\": 11662,\n        \"samples\": [\n          \"\\uc0ac\\ub791\\ud558\\ub294 \\uc0ac\\ub78c \\uc78a\\ub294 \\ubc95\",\n          \"\\uc220 \\uc548 \\uba39\\uc73c\\uba74 \\uce5c\\uad6c\\ub791 \\ubb50\\ud558\\uc9c0\",\n          \"\\uc9dd\\ub0a8\\uc774 \\uace0\\uc2dc\\uc0dd\\uc774\\uba74 \\uae30\\ub2e4\\ub824\\uc57c \\ud558\\ub098\\uc694?\"\n        ],\n        \"semantic_type\": \"\",\n        \"description\": \"\"\n      }\n    },\n    {\n      \"column\": \"A\",\n      \"properties\": {\n        \"dtype\": \"string\",\n        \"num_unique_values\": 7779,\n        \"samples\": [\n          \"\\uc720\\uba38\\ucf54\\ub4dc\\uac00 \\ub9de\\ub294 \\uc0ac\\ub78c\\uc744 \\ucc3e\\uc544\\ubcf4\\uc138\\uc694.\",\n          \"\\uc5ec\\ud589\\uc744 \\ub5a0\\ub098 \\ubcf4\\uc138\\uc694.\",\n          \"\\ud589\\ubcf5\\ud560 \\uac70\\ub77c \\uc0dd\\uac01\\ud574\\uc694.\"\n        ],\n        \"semantic_type\": \"\",\n        \"description\": \"\"\n      }\n    }\n  ]\n}",
              "type": "dataframe",
              "variable_name": "df"
            },
            "text/html": [
              "\n",
              "  <div id=\"df-1a9ad5bc-0b63-4fdb-9a5f-f7dd58deb936\" class=\"colab-df-container\">\n",
              "    <div>\n",
              "<style scoped>\n",
              "    .dataframe tbody tr th:only-of-type {\n",
              "        vertical-align: middle;\n",
              "    }\n",
              "\n",
              "    .dataframe tbody tr th {\n",
              "        vertical-align: top;\n",
              "    }\n",
              "\n",
              "    .dataframe thead th {\n",
              "        text-align: right;\n",
              "    }\n",
              "</style>\n",
              "<table border=\"1\" class=\"dataframe\">\n",
              "  <thead>\n",
              "    <tr style=\"text-align: right;\">\n",
              "      <th></th>\n",
              "      <th>Q</th>\n",
              "      <th>A</th>\n",
              "    </tr>\n",
              "  </thead>\n",
              "  <tbody>\n",
              "    <tr>\n",
              "      <th>0</th>\n",
              "      <td>12시 땡!</td>\n",
              "      <td>하루가 또 가네요.</td>\n",
              "    </tr>\n",
              "    <tr>\n",
              "      <th>1</th>\n",
              "      <td>1지망 학교 떨어졌어</td>\n",
              "      <td>위로해 드립니다.</td>\n",
              "    </tr>\n",
              "    <tr>\n",
              "      <th>2</th>\n",
              "      <td>3박4일 놀러가고 싶다</td>\n",
              "      <td>여행은 언제나 좋죠.</td>\n",
              "    </tr>\n",
              "    <tr>\n",
              "      <th>3</th>\n",
              "      <td>3박4일 정도 놀러가고 싶다</td>\n",
              "      <td>여행은 언제나 좋죠.</td>\n",
              "    </tr>\n",
              "    <tr>\n",
              "      <th>4</th>\n",
              "      <td>PPL 심하네</td>\n",
              "      <td>눈살이 찌푸려지죠.</td>\n",
              "    </tr>\n",
              "    <tr>\n",
              "      <th>...</th>\n",
              "      <td>...</td>\n",
              "      <td>...</td>\n",
              "    </tr>\n",
              "    <tr>\n",
              "      <th>11818</th>\n",
              "      <td>훔쳐보는 것도 눈치 보임.</td>\n",
              "      <td>티가 나니까 눈치가 보이는 거죠!</td>\n",
              "    </tr>\n",
              "    <tr>\n",
              "      <th>11819</th>\n",
              "      <td>훔쳐보는 것도 눈치 보임.</td>\n",
              "      <td>훔쳐보는 거 티나나봐요.</td>\n",
              "    </tr>\n",
              "    <tr>\n",
              "      <th>11820</th>\n",
              "      <td>흑기사 해주는 짝남.</td>\n",
              "      <td>설렜겠어요.</td>\n",
              "    </tr>\n",
              "    <tr>\n",
              "      <th>11821</th>\n",
              "      <td>힘든 연애 좋은 연애라는게 무슨 차이일까?</td>\n",
              "      <td>잘 헤어질 수 있는 사이 여부인 거 같아요.</td>\n",
              "    </tr>\n",
              "    <tr>\n",
              "      <th>11822</th>\n",
              "      <td>힘들어서 결혼할까봐</td>\n",
              "      <td>도피성 결혼은 하지 않길 바라요.</td>\n",
              "    </tr>\n",
              "  </tbody>\n",
              "</table>\n",
              "<p>11823 rows × 2 columns</p>\n",
              "</div>\n",
              "    <div class=\"colab-df-buttons\">\n",
              "\n",
              "  <div class=\"colab-df-container\">\n",
              "    <button class=\"colab-df-convert\" onclick=\"convertToInteractive('df-1a9ad5bc-0b63-4fdb-9a5f-f7dd58deb936')\"\n",
              "            title=\"Convert this dataframe to an interactive table.\"\n",
              "            style=\"display:none;\">\n",
              "\n",
              "  <svg xmlns=\"http://www.w3.org/2000/svg\" height=\"24px\" viewBox=\"0 -960 960 960\">\n",
              "    <path d=\"M120-120v-720h720v720H120Zm60-500h600v-160H180v160Zm220 220h160v-160H400v160Zm0 220h160v-160H400v160ZM180-400h160v-160H180v160Zm440 0h160v-160H620v160ZM180-180h160v-160H180v160Zm440 0h160v-160H620v160Z\"/>\n",
              "  </svg>\n",
              "    </button>\n",
              "\n",
              "  <style>\n",
              "    .colab-df-container {\n",
              "      display:flex;\n",
              "      gap: 12px;\n",
              "    }\n",
              "\n",
              "    .colab-df-convert {\n",
              "      background-color: #E8F0FE;\n",
              "      border: none;\n",
              "      border-radius: 50%;\n",
              "      cursor: pointer;\n",
              "      display: none;\n",
              "      fill: #1967D2;\n",
              "      height: 32px;\n",
              "      padding: 0 0 0 0;\n",
              "      width: 32px;\n",
              "    }\n",
              "\n",
              "    .colab-df-convert:hover {\n",
              "      background-color: #E2EBFA;\n",
              "      box-shadow: 0px 1px 2px rgba(60, 64, 67, 0.3), 0px 1px 3px 1px rgba(60, 64, 67, 0.15);\n",
              "      fill: #174EA6;\n",
              "    }\n",
              "\n",
              "    .colab-df-buttons div {\n",
              "      margin-bottom: 4px;\n",
              "    }\n",
              "\n",
              "    [theme=dark] .colab-df-convert {\n",
              "      background-color: #3B4455;\n",
              "      fill: #D2E3FC;\n",
              "    }\n",
              "\n",
              "    [theme=dark] .colab-df-convert:hover {\n",
              "      background-color: #434B5C;\n",
              "      box-shadow: 0px 1px 3px 1px rgba(0, 0, 0, 0.15);\n",
              "      filter: drop-shadow(0px 1px 2px rgba(0, 0, 0, 0.3));\n",
              "      fill: #FFFFFF;\n",
              "    }\n",
              "  </style>\n",
              "\n",
              "    <script>\n",
              "      const buttonEl =\n",
              "        document.querySelector('#df-1a9ad5bc-0b63-4fdb-9a5f-f7dd58deb936 button.colab-df-convert');\n",
              "      buttonEl.style.display =\n",
              "        google.colab.kernel.accessAllowed ? 'block' : 'none';\n",
              "\n",
              "      async function convertToInteractive(key) {\n",
              "        const element = document.querySelector('#df-1a9ad5bc-0b63-4fdb-9a5f-f7dd58deb936');\n",
              "        const dataTable =\n",
              "          await google.colab.kernel.invokeFunction('convertToInteractive',\n",
              "                                                    [key], {});\n",
              "        if (!dataTable) return;\n",
              "\n",
              "        const docLinkHtml = 'Like what you see? Visit the ' +\n",
              "          '<a target=\"_blank\" href=https://colab.research.google.com/notebooks/data_table.ipynb>data table notebook</a>'\n",
              "          + ' to learn more about interactive tables.';\n",
              "        element.innerHTML = '';\n",
              "        dataTable['output_type'] = 'display_data';\n",
              "        await google.colab.output.renderOutput(dataTable, element);\n",
              "        const docLink = document.createElement('div');\n",
              "        docLink.innerHTML = docLinkHtml;\n",
              "        element.appendChild(docLink);\n",
              "      }\n",
              "    </script>\n",
              "  </div>\n",
              "\n",
              "\n",
              "    <div id=\"df-8eb18701-be7b-4bad-b934-8823f6db7f35\">\n",
              "      <button class=\"colab-df-quickchart\" onclick=\"quickchart('df-8eb18701-be7b-4bad-b934-8823f6db7f35')\"\n",
              "                title=\"Suggest charts\"\n",
              "                style=\"display:none;\">\n",
              "\n",
              "<svg xmlns=\"http://www.w3.org/2000/svg\" height=\"24px\"viewBox=\"0 0 24 24\"\n",
              "     width=\"24px\">\n",
              "    <g>\n",
              "        <path d=\"M19 3H5c-1.1 0-2 .9-2 2v14c0 1.1.9 2 2 2h14c1.1 0 2-.9 2-2V5c0-1.1-.9-2-2-2zM9 17H7v-7h2v7zm4 0h-2V7h2v10zm4 0h-2v-4h2v4z\"/>\n",
              "    </g>\n",
              "</svg>\n",
              "      </button>\n",
              "\n",
              "<style>\n",
              "  .colab-df-quickchart {\n",
              "      --bg-color: #E8F0FE;\n",
              "      --fill-color: #1967D2;\n",
              "      --hover-bg-color: #E2EBFA;\n",
              "      --hover-fill-color: #174EA6;\n",
              "      --disabled-fill-color: #AAA;\n",
              "      --disabled-bg-color: #DDD;\n",
              "  }\n",
              "\n",
              "  [theme=dark] .colab-df-quickchart {\n",
              "      --bg-color: #3B4455;\n",
              "      --fill-color: #D2E3FC;\n",
              "      --hover-bg-color: #434B5C;\n",
              "      --hover-fill-color: #FFFFFF;\n",
              "      --disabled-bg-color: #3B4455;\n",
              "      --disabled-fill-color: #666;\n",
              "  }\n",
              "\n",
              "  .colab-df-quickchart {\n",
              "    background-color: var(--bg-color);\n",
              "    border: none;\n",
              "    border-radius: 50%;\n",
              "    cursor: pointer;\n",
              "    display: none;\n",
              "    fill: var(--fill-color);\n",
              "    height: 32px;\n",
              "    padding: 0;\n",
              "    width: 32px;\n",
              "  }\n",
              "\n",
              "  .colab-df-quickchart:hover {\n",
              "    background-color: var(--hover-bg-color);\n",
              "    box-shadow: 0 1px 2px rgba(60, 64, 67, 0.3), 0 1px 3px 1px rgba(60, 64, 67, 0.15);\n",
              "    fill: var(--button-hover-fill-color);\n",
              "  }\n",
              "\n",
              "  .colab-df-quickchart-complete:disabled,\n",
              "  .colab-df-quickchart-complete:disabled:hover {\n",
              "    background-color: var(--disabled-bg-color);\n",
              "    fill: var(--disabled-fill-color);\n",
              "    box-shadow: none;\n",
              "  }\n",
              "\n",
              "  .colab-df-spinner {\n",
              "    border: 2px solid var(--fill-color);\n",
              "    border-color: transparent;\n",
              "    border-bottom-color: var(--fill-color);\n",
              "    animation:\n",
              "      spin 1s steps(1) infinite;\n",
              "  }\n",
              "\n",
              "  @keyframes spin {\n",
              "    0% {\n",
              "      border-color: transparent;\n",
              "      border-bottom-color: var(--fill-color);\n",
              "      border-left-color: var(--fill-color);\n",
              "    }\n",
              "    20% {\n",
              "      border-color: transparent;\n",
              "      border-left-color: var(--fill-color);\n",
              "      border-top-color: var(--fill-color);\n",
              "    }\n",
              "    30% {\n",
              "      border-color: transparent;\n",
              "      border-left-color: var(--fill-color);\n",
              "      border-top-color: var(--fill-color);\n",
              "      border-right-color: var(--fill-color);\n",
              "    }\n",
              "    40% {\n",
              "      border-color: transparent;\n",
              "      border-right-color: var(--fill-color);\n",
              "      border-top-color: var(--fill-color);\n",
              "    }\n",
              "    60% {\n",
              "      border-color: transparent;\n",
              "      border-right-color: var(--fill-color);\n",
              "    }\n",
              "    80% {\n",
              "      border-color: transparent;\n",
              "      border-right-color: var(--fill-color);\n",
              "      border-bottom-color: var(--fill-color);\n",
              "    }\n",
              "    90% {\n",
              "      border-color: transparent;\n",
              "      border-bottom-color: var(--fill-color);\n",
              "    }\n",
              "  }\n",
              "</style>\n",
              "\n",
              "      <script>\n",
              "        async function quickchart(key) {\n",
              "          const quickchartButtonEl =\n",
              "            document.querySelector('#' + key + ' button');\n",
              "          quickchartButtonEl.disabled = true;  // To prevent multiple clicks.\n",
              "          quickchartButtonEl.classList.add('colab-df-spinner');\n",
              "          try {\n",
              "            const charts = await google.colab.kernel.invokeFunction(\n",
              "                'suggestCharts', [key], {});\n",
              "          } catch (error) {\n",
              "            console.error('Error during call to suggestCharts:', error);\n",
              "          }\n",
              "          quickchartButtonEl.classList.remove('colab-df-spinner');\n",
              "          quickchartButtonEl.classList.add('colab-df-quickchart-complete');\n",
              "        }\n",
              "        (() => {\n",
              "          let quickchartButtonEl =\n",
              "            document.querySelector('#df-8eb18701-be7b-4bad-b934-8823f6db7f35 button');\n",
              "          quickchartButtonEl.style.display =\n",
              "            google.colab.kernel.accessAllowed ? 'block' : 'none';\n",
              "        })();\n",
              "      </script>\n",
              "    </div>\n",
              "\n",
              "  <div id=\"id_24e1f0f3-282b-4120-8920-3f3ee2585aa9\">\n",
              "    <style>\n",
              "      .colab-df-generate {\n",
              "        background-color: #E8F0FE;\n",
              "        border: none;\n",
              "        border-radius: 50%;\n",
              "        cursor: pointer;\n",
              "        display: none;\n",
              "        fill: #1967D2;\n",
              "        height: 32px;\n",
              "        padding: 0 0 0 0;\n",
              "        width: 32px;\n",
              "      }\n",
              "\n",
              "      .colab-df-generate:hover {\n",
              "        background-color: #E2EBFA;\n",
              "        box-shadow: 0px 1px 2px rgba(60, 64, 67, 0.3), 0px 1px 3px 1px rgba(60, 64, 67, 0.15);\n",
              "        fill: #174EA6;\n",
              "      }\n",
              "\n",
              "      [theme=dark] .colab-df-generate {\n",
              "        background-color: #3B4455;\n",
              "        fill: #D2E3FC;\n",
              "      }\n",
              "\n",
              "      [theme=dark] .colab-df-generate:hover {\n",
              "        background-color: #434B5C;\n",
              "        box-shadow: 0px 1px 3px 1px rgba(0, 0, 0, 0.15);\n",
              "        filter: drop-shadow(0px 1px 2px rgba(0, 0, 0, 0.3));\n",
              "        fill: #FFFFFF;\n",
              "      }\n",
              "    </style>\n",
              "    <button class=\"colab-df-generate\" onclick=\"generateWithVariable('df')\"\n",
              "            title=\"Generate code using this dataframe.\"\n",
              "            style=\"display:none;\">\n",
              "\n",
              "  <svg xmlns=\"http://www.w3.org/2000/svg\" height=\"24px\"viewBox=\"0 0 24 24\"\n",
              "       width=\"24px\">\n",
              "    <path d=\"M7,19H8.4L18.45,9,17,7.55,7,17.6ZM5,21V16.75L18.45,3.32a2,2,0,0,1,2.83,0l1.4,1.43a1.91,1.91,0,0,1,.58,1.4,1.91,1.91,0,0,1-.58,1.4L9.25,21ZM18.45,9,17,7.55Zm-12,3A5.31,5.31,0,0,0,4.9,8.1,5.31,5.31,0,0,0,1,6.5,5.31,5.31,0,0,0,4.9,4.9,5.31,5.31,0,0,0,6.5,1,5.31,5.31,0,0,0,8.1,4.9,5.31,5.31,0,0,0,12,6.5,5.46,5.46,0,0,0,6.5,12Z\"/>\n",
              "  </svg>\n",
              "    </button>\n",
              "    <script>\n",
              "      (() => {\n",
              "      const buttonEl =\n",
              "        document.querySelector('#id_24e1f0f3-282b-4120-8920-3f3ee2585aa9 button.colab-df-generate');\n",
              "      buttonEl.style.display =\n",
              "        google.colab.kernel.accessAllowed ? 'block' : 'none';\n",
              "\n",
              "      buttonEl.onclick = () => {\n",
              "        google.colab.notebook.generateWithVariable('df');\n",
              "      }\n",
              "      })();\n",
              "    </script>\n",
              "  </div>\n",
              "\n",
              "    </div>\n",
              "  </div>\n"
            ],
            "text/plain": [
              "                             Q                         A\n",
              "0                       12시 땡!                하루가 또 가네요.\n",
              "1                  1지망 학교 떨어졌어                 위로해 드립니다.\n",
              "2                 3박4일 놀러가고 싶다               여행은 언제나 좋죠.\n",
              "3              3박4일 정도 놀러가고 싶다               여행은 언제나 좋죠.\n",
              "4                      PPL 심하네                눈살이 찌푸려지죠.\n",
              "...                        ...                       ...\n",
              "11818           훔쳐보는 것도 눈치 보임.        티가 나니까 눈치가 보이는 거죠!\n",
              "11819           훔쳐보는 것도 눈치 보임.             훔쳐보는 거 티나나봐요.\n",
              "11820              흑기사 해주는 짝남.                    설렜겠어요.\n",
              "11821  힘든 연애 좋은 연애라는게 무슨 차이일까?  잘 헤어질 수 있는 사이 여부인 거 같아요.\n",
              "11822               힘들어서 결혼할까봐        도피성 결혼은 하지 않길 바라요.\n",
              "\n",
              "[11823 rows x 2 columns]"
            ]
          },
          "execution_count": 2,
          "metadata": {},
          "output_type": "execute_result"
        }
      ],
      "source": [
        "import numpy as np\n",
        "import pandas as pd\n",
        "import tensorflow as tf\n",
        "from tensorflow.keras.preprocessing.sequence import pad_sequences\n",
        "\n",
        "df = pd.read_csv('https://raw.githubusercontent.com/songys/Chatbot_data/refs/heads/master/ChatbotData.csv')\n",
        "df = df[['Q', 'A']]\n",
        "df\n"
      ]
    },
    {
      "cell_type": "code",
      "execution_count": 3,
      "id": "930806e3",
      "metadata": {
        "colab": {
          "base_uri": "https://localhost:8080/"
        },
        "id": "930806e3",
        "outputId": "78d74363-69c7-4fd7-fe79-aa6448fa232b"
      },
      "outputs": [
        {
          "name": "stdout",
          "output_type": "stream",
          "text": [
            "<class 'pandas.core.frame.DataFrame'>\n",
            "RangeIndex: 11823 entries, 0 to 11822\n",
            "Data columns (total 2 columns):\n",
            " #   Column  Non-Null Count  Dtype \n",
            "---  ------  --------------  ----- \n",
            " 0   Q       11823 non-null  object\n",
            " 1   A       11823 non-null  object\n",
            "dtypes: object(2)\n",
            "memory usage: 184.9+ KB\n"
          ]
        }
      ],
      "source": [
        "df.info()"
      ]
    },
    {
      "cell_type": "markdown",
      "id": "d1b7f94e",
      "metadata": {
        "id": "d1b7f94e"
      },
      "source": [
        "데이터 전처리\n",
        "\n",
        "## 토커나이저 학습 (sentencepiece 활용)\n",
        "\n",
        "- 접두사, 접미사 처리 (문장의 처음과 끝에 오는 'sos','bos'처리)"
      ]
    },
    {
      "cell_type": "code",
      "execution_count": 11,
      "id": "c70ac5da",
      "metadata": {
        "colab": {
          "base_uri": "https://localhost:8080/"
        },
        "id": "c70ac5da",
        "outputId": "2fed65cd-65a5-4615-c8dd-bfa02c8aab2b"
      },
      "outputs": [
        {
          "name": "stdout",
          "output_type": "stream",
          "text": [
            "['12시 땡!', '1지망 학교 떨어졌어', '3박4일 놀러가고 싶다']\n",
            "['하루가 또 가네요.', '위로해 드립니다.', '여행은 언제나 좋죠.']\n",
            "['하루가 또 가네요.', '위로해 드립니다.', '여행은 언제나 좋죠.']\n"
          ]
        }
      ],
      "source": [
        "q_input = []\n",
        "a_input = []\n",
        "a_target = []\n",
        "#우선 Q 데이터랑 A 데이터를 각각 q_input, a_input, a_target으로 나눠서 저장\n",
        "for string in df['Q']:\n",
        "    q_input.append(string)\n",
        "for string in df['A']:\n",
        "    a_input.append(string)\n",
        "    a_target.append(string)\n",
        "print(q_input[:3])\n",
        "print(a_input[:3])\n",
        "print(a_target[:3])\n",
        "#question_input 과 answer_input / answer_target으로 나눔, 여기서 answer_target을 따로 나누는 이유는 teacher forcing을 위해서임"
      ]
    },
    {
      "cell_type": "code",
      "execution_count": 12,
      "id": "b521b2f0",
      "metadata": {
        "id": "b521b2f0"
      },
      "outputs": [],
      "source": [
        "VOCAB_SIZE = 9000"
      ]
    },
    {
      "cell_type": "code",
      "execution_count": 13,
      "id": "f61df051",
      "metadata": {
        "id": "f61df051"
      },
      "outputs": [],
      "source": [
        "# 우선 저기 있는 데이터를 하나의 text 파일로 합침\n",
        "all_text = q_input + a_input\n",
        "with open(\"all_text.txt\", \"w\", encoding=\"utf-8\") as f:\n",
        "    for text in all_text:\n",
        "        f.write(text + \"\\n\")\n",
        "# df에 있는 데이터를 with open으로 w해가지고 text에 줄 단위로 넣어놓음"
      ]
    },
    {
      "cell_type": "code",
      "execution_count": 14,
      "id": "6691a2d0",
      "metadata": {
        "id": "6691a2d0"
      },
      "outputs": [],
      "source": [
        "# 그러면 만들어진 텍스트에 대해서 모델을 토큰화시키는거임 sentencepiece로\n",
        "import sentencepiece as spm\n",
        "spm.SentencePieceTrainer.train(\n",
        "    input = r\"all_text.txt\",\n",
        "    model_prefix = \"tokenizer\",\n",
        "    vocab_size = VOCAB_SIZE,\n",
        ")\n",
        "# 그 다음에 SentencePiece를 이용해서 문장을 토큰화시킨거임, 그러면 vocab_size만큼의 토큰이 만들어지겠지"
      ]
    },
    {
      "cell_type": "code",
      "execution_count": 15,
      "id": "352cf36f",
      "metadata": {
        "colab": {
          "base_uri": "https://localhost:8080/"
        },
        "id": "352cf36f",
        "outputId": "7ee27bcc-9ef9-4f02-a8f7-fcccf021f10b"
      },
      "outputs": [
        {
          "name": "stdout",
          "output_type": "stream",
          "text": [
            "원문: 12시 땡!\n",
            "Pieces: ['▁12', '시', '▁땡', '!']\n",
            "Ids: [4360, 556, 3543, 63]\n",
            "\n",
            "원문: 1지망 학교 떨어졌어\n",
            "Pieces: ['▁1', '지망', '▁학교', '▁떨어졌어']\n",
            "Ids: [246, 7278, 717, 1594]\n",
            "\n",
            "원문: 3박4일 놀러가고 싶다\n",
            "Pieces: ['▁3', '박', '4', '일', '▁놀러가고', '▁싶다']\n",
            "Ids: [285, 1507, 2647, 99, 2547, 88]\n",
            "\n"
          ]
        }
      ],
      "source": [
        "sp = spm.SentencePieceProcessor()\n",
        "sp.Load(\"tokenizer.model\")\n",
        "\n",
        "for doc in df['Q'].values[:3]:  # 질문(Q) 데이터 중 앞의 3개만 테스트\n",
        "    print(\"원문:\", doc)\n",
        "    print(\"Pieces:\", sp.encode_as_pieces(doc))  # 토큰 단위 출력\n",
        "    print(\"Ids:\", sp.encode_as_ids(doc))        # 인덱스 번호 출력\n",
        "    print()\n",
        "#spm 안의 SentencePieceProcessor을 이용해서 인코딩까지 가능함"
      ]
    },
    {
      "cell_type": "code",
      "execution_count": 16,
      "id": "269c129b",
      "metadata": {
        "colab": {
          "base_uri": "https://localhost:8080/"
        },
        "id": "269c129b",
        "outputId": "3f99dc36-52ac-4b94-ca34-0ca02b3e4cfb"
      },
      "outputs": [
        {
          "name": "stdout",
          "output_type": "stream",
          "text": [
            "수정된 결과:\n",
            "답변 입력: [1, 255, 8, 96, 93, 22, 3]\n",
            "답변 타겟: [255, 8, 96, 93, 22, 3, 2]\n",
            "답변 입력: [1, 1413, 4, 3681, 3]\n",
            "답변 타겟: [1413, 4, 3681, 3, 2]\n",
            "답변 입력: [1, 291, 14, 361, 61, 185, 3]\n",
            "답변 타겟: [291, 14, 361, 61, 185, 3, 2]\n",
            "11823 11823 11823\n"
          ]
        }
      ],
      "source": [
        "# 토큰화 후 수동으로 특수 토큰 추가\n",
        "question_seq = [sp.encode_as_ids(text) for text in q_input]\n",
        "answer_input_seq = [[sp.bos_id()] + sp.encode_as_ids(text) for text in a_input]\n",
        "answer_target_seq = [sp.encode_as_ids(text) + [sp.eos_id()] for text in a_target]\n",
        "\n",
        "print(\"수정된 결과:\")\n",
        "for i in range(3):\n",
        "    print(f\"답변 입력: {answer_input_seq[i]}\")\n",
        "    print(f\"답변 타겟: {answer_target_seq[i]}\")\n",
        "print(len(question_seq), len(answer_input_seq), len(answer_target_seq))\n",
        "\n",
        "#토큰화 후에 인코딩까지 함"
      ]
    },
    {
      "cell_type": "code",
      "execution_count": 17,
      "id": "f1897975",
      "metadata": {
        "id": "f1897975"
      },
      "outputs": [],
      "source": [
        "q_max_len = max(len(seq) for seq in question_seq)\n",
        "a_max_len = max(len(seq) for seq in answer_input_seq)"
      ]
    },
    {
      "cell_type": "markdown",
      "id": "fec937b0",
      "metadata": {
        "id": "fec937b0"
      },
      "source": [
        "padding\n"
      ]
    },
    {
      "cell_type": "code",
      "execution_count": 18,
      "id": "196ab3f0",
      "metadata": {
        "colab": {
          "base_uri": "https://localhost:8080/"
        },
        "id": "196ab3f0",
        "outputId": "b368add7-6386-4177-aa2b-bc6f780a9528"
      },
      "outputs": [
        {
          "name": "stdout",
          "output_type": "stream",
          "text": [
            "(11823, 24)\n",
            "(11823, 36)\n",
            "(11823, 36)\n"
          ]
        }
      ],
      "source": [
        "q_inputs_padded = pad_sequences(question_seq, maxlen = q_max_len, padding='post')\n",
        "a_inputs_padded = pad_sequences(answer_input_seq, maxlen = a_max_len, padding='post')\n",
        "a_targets_padded = pad_sequences(answer_target_seq, maxlen = a_max_len, padding='post')\n",
        "\n",
        "print(q_inputs_padded.shape)\n",
        "print(a_inputs_padded.shape)\n",
        "print(a_targets_padded.shape)\n",
        "# 인코딩을 완료한 후에 각 sequences에 대해서 padding을 진행함(나중에 batch화 해가지고 행렬 연산 해버리게)"
      ]
    },
    {
      "cell_type": "code",
      "execution_count": 19,
      "id": "00bdd4fe",
      "metadata": {
        "colab": {
          "base_uri": "https://localhost:8080/"
        },
        "id": "00bdd4fe",
        "outputId": "bbbcd769-4da2-43d1-f366-78c1be573a5d"
      },
      "outputs": [
        {
          "name": "stdout",
          "output_type": "stream",
          "text": [
            "24 36\n"
          ]
        }
      ],
      "source": [
        "EMBEDDING_DIM = 100\n",
        "print(q_max_len, a_max_len)"
      ]
    },
    {
      "cell_type": "markdown",
      "id": "0a8aac80",
      "metadata": {
        "id": "0a8aac80"
      },
      "source": [
        "##### 인코더 생성\n"
      ]
    },
    {
      "cell_type": "code",
      "execution_count": 20,
      "id": "1a06d092",
      "metadata": {
        "colab": {
          "base_uri": "https://localhost:8080/"
        },
        "id": "1a06d092",
        "outputId": "6315f353-9fc5-4ed9-eb9e-39dc62be04dd"
      },
      "outputs": [
        {
          "name": "stdout",
          "output_type": "stream",
          "text": [
            "실제 어휘 크기: 9000\n"
          ]
        }
      ],
      "source": [
        "vocab_size = sp.get_piece_size()  # SentencePiece 어휘 크기\n",
        "print(f\"실제 어휘 크기: {vocab_size}\")\n",
        "a_words_num = vocab_size  # 또는 vocab_size\n",
        "q_words_num = vocab_size\n",
        "# 그러면 vocab_size만큼 encoding이 완료됐고, encoding 된거 embedding 해야함"
      ]
    },
    {
      "cell_type": "code",
      "execution_count": 21,
      "id": "4953b873",
      "metadata": {
        "id": "4953b873"
      },
      "outputs": [],
      "source": [
        "from tensorflow.keras import layers, models\n",
        "\n",
        "LATENT_DIM = 512 # Changed LATENT_DIM to 128\n",
        "#sequence 하나가 max 20임 encoder_inputs는 그래서 20\n",
        "encoder_inputs = layers.Input(shape=(q_max_len,))\n",
        "#이제 임베딩시키면 됨, 인코딩된 시퀀스들을 임베딩시킴\n",
        "q_embedding_layer = layers.Embedding(\n",
        "    input_dim = q_words_num,\n",
        "    output_dim = EMBEDDING_DIM,\n",
        "    mask_zero = False\n",
        ")\n",
        "#문장에 대해 embedding시킨 텐서x를 반환\n",
        "x = q_embedding_layer(encoder_inputs)\n",
        "#반환시킨 텐서를 input으로 한 LSTM 모델 생성해서 h, c 반환\n",
        "encoder_outputs, h, c = layers.LSTM(LATENT_DIM, return_state=True, dropout= 0.2)(x)\n",
        "encoder_states = [h, c]\n",
        "#결국 input이 요게 들어오면 output은 h, c가 나와야함\n",
        "encoder_model = models.Model(inputs=encoder_inputs, outputs=encoder_states)\n",
        "#"
      ]
    },
    {
      "cell_type": "markdown",
      "id": "95b7a89b",
      "metadata": {
        "id": "95b7a89b"
      },
      "source": [
        "##### 디코더 생성(teacher-forcing 모델) 생성\n"
      ]
    },
    {
      "cell_type": "code",
      "execution_count": 23,
      "id": "a063018c",
      "metadata": {
        "id": "a063018c"
      },
      "outputs": [],
      "source": [
        "# 디코더 (teacher forcing)\n",
        "#디코더는 input으로 answer 이 들어옴\n",
        "decoder_inputs = layers.Input(shape=(a_max_len,))\n",
        "#그래서 answer 인코딩 된거를 -> 임베딩 시키고\n",
        "a_embedding_layer = layers.Embedding(\n",
        "    input_dim = a_words_num,\n",
        "    output_dim = EMBEDDING_DIM,\n",
        "    mask_zero = False # Changed mask_zero to False\n",
        ")\n",
        "#x는 answer을 임베딩 시킨거임\n",
        "x = a_embedding_layer(decoder_inputs)\n",
        "# 그 다음에\n",
        "decoder_lstm = layers.LSTM(LATENT_DIM, return_sequences=True, return_state=True)\n",
        "x, dh, dc = decoder_lstm(x, initial_state=encoder_states)\n",
        "decoder_dense = layers.Dense(a_words_num, activation='softmax')  # +1 제거\n",
        "decoder_outputs = decoder_dense(x)\n",
        "\n",
        "decoder_teacher_forcing_model = models.Model(\n",
        "    inputs=[encoder_inputs, decoder_inputs],\n",
        "    outputs=decoder_outputs\n",
        ")"
      ]
    },
    {
      "cell_type": "markdown",
      "id": "2296bf0d",
      "metadata": {
        "id": "2296bf0d"
      },
      "source": [
        "##### 모델 컴파일 시키고 학습\n"
      ]
    },
    {
      "cell_type": "code",
      "execution_count": 24,
      "id": "e0c9b99a",
      "metadata": {
        "colab": {
          "base_uri": "https://localhost:8080/"
        },
        "id": "e0c9b99a",
        "outputId": "3da1e348-ee22-47a1-afb8-ab50f8ff94a0"
      },
      "outputs": [
        {
          "name": "stdout",
          "output_type": "stream",
          "text": [
            "Input shapes:\n",
            "q_inputs_padded: (11823, 24)\n",
            "a_inputs_padded: (11823, 36)\n",
            "a_targets_padded: (11823, 36)\n",
            "\n",
            "Vocab size: 9000\n",
            "Max target value: 8997\n",
            "Epoch 1/80\n",
            "\u001b[1m296/296\u001b[0m \u001b[32m━━━━━━━━━━━━━━━━━━━━\u001b[0m\u001b[37m\u001b[0m \u001b[1m23s\u001b[0m 60ms/step - accuracy: 0.7944 - loss: 2.1180 - val_accuracy: 0.8134 - val_loss: 1.3952\n",
            "Epoch 2/80\n",
            "\u001b[1m296/296\u001b[0m \u001b[32m━━━━━━━━━━━━━━━━━━━━\u001b[0m\u001b[37m\u001b[0m \u001b[1m37s\u001b[0m 59ms/step - accuracy: 0.8465 - loss: 1.0680 - val_accuracy: 0.8166 - val_loss: 1.3439\n",
            "Epoch 3/80\n",
            "\u001b[1m296/296\u001b[0m \u001b[32m━━━━━━━━━━━━━━━━━━━━\u001b[0m\u001b[37m\u001b[0m \u001b[1m21s\u001b[0m 61ms/step - accuracy: 0.8518 - loss: 0.9923 - val_accuracy: 0.8208 - val_loss: 1.3210\n",
            "Epoch 4/80\n",
            "\u001b[1m296/296\u001b[0m \u001b[32m━━━━━━━━━━━━━━━━━━━━\u001b[0m\u001b[37m\u001b[0m \u001b[1m20s\u001b[0m 59ms/step - accuracy: 0.8532 - loss: 0.9601 - val_accuracy: 0.8228 - val_loss: 1.3135\n",
            "Epoch 5/80\n",
            "\u001b[1m296/296\u001b[0m \u001b[32m━━━━━━━━━━━━━━━━━━━━\u001b[0m\u001b[37m\u001b[0m \u001b[1m17s\u001b[0m 58ms/step - accuracy: 0.8576 - loss: 0.9109 - val_accuracy: 0.8264 - val_loss: 1.3035\n",
            "Epoch 6/80\n",
            "\u001b[1m296/296\u001b[0m \u001b[32m━━━━━━━━━━━━━━━━━━━━\u001b[0m\u001b[37m\u001b[0m \u001b[1m20s\u001b[0m 58ms/step - accuracy: 0.8605 - loss: 0.8717 - val_accuracy: 0.8289 - val_loss: 1.3008\n",
            "Epoch 7/80\n",
            "\u001b[1m296/296\u001b[0m \u001b[32m━━━━━━━━━━━━━━━━━━━━\u001b[0m\u001b[37m\u001b[0m \u001b[1m21s\u001b[0m 60ms/step - accuracy: 0.8670 - loss: 0.8158 - val_accuracy: 0.8313 - val_loss: 1.2952\n",
            "Epoch 8/80\n",
            "\u001b[1m296/296\u001b[0m \u001b[32m━━━━━━━━━━━━━━━━━━━━\u001b[0m\u001b[37m\u001b[0m \u001b[1m17s\u001b[0m 59ms/step - accuracy: 0.8700 - loss: 0.7847 - val_accuracy: 0.8344 - val_loss: 1.2926\n",
            "Epoch 9/80\n",
            "\u001b[1m296/296\u001b[0m \u001b[32m━━━━━━━━━━━━━━━━━━━━\u001b[0m\u001b[37m\u001b[0m \u001b[1m20s\u001b[0m 58ms/step - accuracy: 0.8758 - loss: 0.7341 - val_accuracy: 0.8366 - val_loss: 1.2928\n",
            "Epoch 10/80\n",
            "\u001b[1m296/296\u001b[0m \u001b[32m━━━━━━━━━━━━━━━━━━━━\u001b[0m\u001b[37m\u001b[0m \u001b[1m21s\u001b[0m 60ms/step - accuracy: 0.8837 - loss: 0.6778 - val_accuracy: 0.8379 - val_loss: 1.2994\n",
            "Epoch 11/80\n",
            "\u001b[1m296/296\u001b[0m \u001b[32m━━━━━━━━━━━━━━━━━━━━\u001b[0m\u001b[37m\u001b[0m \u001b[1m18s\u001b[0m 60ms/step - accuracy: 0.8911 - loss: 0.6264 - val_accuracy: 0.8386 - val_loss: 1.3116\n",
            "Epoch 12/80\n",
            "\u001b[1m296/296\u001b[0m \u001b[32m━━━━━━━━━━━━━━━━━━━━\u001b[0m\u001b[37m\u001b[0m \u001b[1m20s\u001b[0m 60ms/step - accuracy: 0.8972 - loss: 0.5812 - val_accuracy: 0.8393 - val_loss: 1.3192\n",
            "Epoch 13/80\n",
            "\u001b[1m296/296\u001b[0m \u001b[32m━━━━━━━━━━━━━━━━━━━━\u001b[0m\u001b[37m\u001b[0m \u001b[1m20s\u001b[0m 59ms/step - accuracy: 0.9049 - loss: 0.5364 - val_accuracy: 0.8402 - val_loss: 1.3362\n",
            "Epoch 14/80\n",
            "\u001b[1m296/296\u001b[0m \u001b[32m━━━━━━━━━━━━━━━━━━━━\u001b[0m\u001b[37m\u001b[0m \u001b[1m21s\u001b[0m 59ms/step - accuracy: 0.9109 - loss: 0.4981 - val_accuracy: 0.8403 - val_loss: 1.3495\n",
            "Epoch 15/80\n",
            "\u001b[1m296/296\u001b[0m \u001b[32m━━━━━━━━━━━━━━━━━━━━\u001b[0m\u001b[37m\u001b[0m \u001b[1m17s\u001b[0m 58ms/step - accuracy: 0.9172 - loss: 0.4630 - val_accuracy: 0.8410 - val_loss: 1.3681\n",
            "Epoch 16/80\n",
            "\u001b[1m296/296\u001b[0m \u001b[32m━━━━━━━━━━━━━━━━━━━━\u001b[0m\u001b[37m\u001b[0m \u001b[1m21s\u001b[0m 59ms/step - accuracy: 0.9227 - loss: 0.4309 - val_accuracy: 0.8415 - val_loss: 1.3842\n",
            "Epoch 17/80\n",
            "\u001b[1m296/296\u001b[0m \u001b[32m━━━━━━━━━━━━━━━━━━━━\u001b[0m\u001b[37m\u001b[0m \u001b[1m17s\u001b[0m 58ms/step - accuracy: 0.9288 - loss: 0.4004 - val_accuracy: 0.8416 - val_loss: 1.4015\n",
            "Epoch 18/80\n",
            "\u001b[1m296/296\u001b[0m \u001b[32m━━━━━━━━━━━━━━━━━━━━\u001b[0m\u001b[37m\u001b[0m \u001b[1m21s\u001b[0m 59ms/step - accuracy: 0.9340 - loss: 0.3717 - val_accuracy: 0.8419 - val_loss: 1.4187\n",
            "Epoch 19/80\n",
            "\u001b[1m296/296\u001b[0m \u001b[32m━━━━━━━━━━━━━━━━━━━━\u001b[0m\u001b[37m\u001b[0m \u001b[1m21s\u001b[0m 60ms/step - accuracy: 0.9379 - loss: 0.3503 - val_accuracy: 0.8421 - val_loss: 1.4370\n",
            "Epoch 20/80\n",
            "\u001b[1m296/296\u001b[0m \u001b[32m━━━━━━━━━━━━━━━━━━━━\u001b[0m\u001b[37m\u001b[0m \u001b[1m17s\u001b[0m 58ms/step - accuracy: 0.9407 - loss: 0.3325 - val_accuracy: 0.8426 - val_loss: 1.4549\n",
            "Epoch 21/80\n",
            "\u001b[1m296/296\u001b[0m \u001b[32m━━━━━━━━━━━━━━━━━━━━\u001b[0m\u001b[37m\u001b[0m \u001b[1m21s\u001b[0m 59ms/step - accuracy: 0.9442 - loss: 0.3147 - val_accuracy: 0.8428 - val_loss: 1.4724\n",
            "Epoch 22/80\n",
            "\u001b[1m296/296\u001b[0m \u001b[32m━━━━━━━━━━━━━━━━━━━━\u001b[0m\u001b[37m\u001b[0m \u001b[1m21s\u001b[0m 60ms/step - accuracy: 0.9472 - loss: 0.2984 - val_accuracy: 0.8425 - val_loss: 1.4882\n",
            "Epoch 23/80\n",
            "\u001b[1m296/296\u001b[0m \u001b[32m━━━━━━━━━━━━━━━━━━━━\u001b[0m\u001b[37m\u001b[0m \u001b[1m20s\u001b[0m 60ms/step - accuracy: 0.9485 - loss: 0.2888 - val_accuracy: 0.8426 - val_loss: 1.4854\n",
            "Epoch 24/80\n",
            "\u001b[1m296/296\u001b[0m \u001b[32m━━━━━━━━━━━━━━━━━━━━\u001b[0m\u001b[37m\u001b[0m \u001b[1m20s\u001b[0m 59ms/step - accuracy: 0.9500 - loss: 0.2801 - val_accuracy: 0.8430 - val_loss: 1.5207\n",
            "Epoch 25/80\n",
            "\u001b[1m296/296\u001b[0m \u001b[32m━━━━━━━━━━━━━━━━━━━━\u001b[0m\u001b[37m\u001b[0m \u001b[1m17s\u001b[0m 58ms/step - accuracy: 0.9517 - loss: 0.2678 - val_accuracy: 0.8432 - val_loss: 1.5383\n",
            "Epoch 26/80\n",
            "\u001b[1m296/296\u001b[0m \u001b[32m━━━━━━━━━━━━━━━━━━━━\u001b[0m\u001b[37m\u001b[0m \u001b[1m21s\u001b[0m 59ms/step - accuracy: 0.9533 - loss: 0.2584 - val_accuracy: 0.8430 - val_loss: 1.5578\n",
            "Epoch 27/80\n",
            "\u001b[1m296/296\u001b[0m \u001b[32m━━━━━━━━━━━━━━━━━━━━\u001b[0m\u001b[37m\u001b[0m \u001b[1m21s\u001b[0m 59ms/step - accuracy: 0.9549 - loss: 0.2488 - val_accuracy: 0.8423 - val_loss: 1.5794\n",
            "Epoch 28/80\n",
            "\u001b[1m296/296\u001b[0m \u001b[32m━━━━━━━━━━━━━━━━━━━━\u001b[0m\u001b[37m\u001b[0m \u001b[1m20s\u001b[0m 59ms/step - accuracy: 0.9553 - loss: 0.2430 - val_accuracy: 0.8428 - val_loss: 1.5944\n",
            "Epoch 29/80\n",
            "\u001b[1m296/296\u001b[0m \u001b[32m━━━━━━━━━━━━━━━━━━━━\u001b[0m\u001b[37m\u001b[0m \u001b[1m21s\u001b[0m 60ms/step - accuracy: 0.9560 - loss: 0.2384 - val_accuracy: 0.8425 - val_loss: 1.6129\n",
            "Epoch 30/80\n",
            "\u001b[1m296/296\u001b[0m \u001b[32m━━━━━━━━━━━━━━━━━━━━\u001b[0m\u001b[37m\u001b[0m \u001b[1m20s\u001b[0m 59ms/step - accuracy: 0.9572 - loss: 0.2310 - val_accuracy: 0.8428 - val_loss: 1.6262\n",
            "Epoch 31/80\n",
            "\u001b[1m296/296\u001b[0m \u001b[32m━━━━━━━━━━━━━━━━━━━━\u001b[0m\u001b[37m\u001b[0m \u001b[1m18s\u001b[0m 60ms/step - accuracy: 0.9579 - loss: 0.2258 - val_accuracy: 0.8424 - val_loss: 1.6425\n",
            "Epoch 32/80\n",
            "\u001b[1m296/296\u001b[0m \u001b[32m━━━━━━━━━━━━━━━━━━━━\u001b[0m\u001b[37m\u001b[0m \u001b[1m20s\u001b[0m 59ms/step - accuracy: 0.9582 - loss: 0.2214 - val_accuracy: 0.8426 - val_loss: 1.6532\n",
            "Epoch 33/80\n",
            "\u001b[1m296/296\u001b[0m \u001b[32m━━━━━━━━━━━━━━━━━━━━\u001b[0m\u001b[37m\u001b[0m \u001b[1m21s\u001b[0m 59ms/step - accuracy: 0.9591 - loss: 0.2166 - val_accuracy: 0.8425 - val_loss: 1.6703\n",
            "Epoch 34/80\n",
            "\u001b[1m296/296\u001b[0m \u001b[32m━━━━━━━━━━━━━━━━━━━━\u001b[0m\u001b[37m\u001b[0m \u001b[1m21s\u001b[0m 61ms/step - accuracy: 0.9594 - loss: 0.2130 - val_accuracy: 0.8427 - val_loss: 1.6844\n",
            "Epoch 35/80\n",
            "\u001b[1m296/296\u001b[0m \u001b[32m━━━━━━━━━━━━━━━━━━━━\u001b[0m\u001b[37m\u001b[0m \u001b[1m21s\u001b[0m 61ms/step - accuracy: 0.9603 - loss: 0.2072 - val_accuracy: 0.8420 - val_loss: 1.7017\n",
            "Epoch 36/80\n",
            "\u001b[1m296/296\u001b[0m \u001b[32m━━━━━━━━━━━━━━━━━━━━\u001b[0m\u001b[37m\u001b[0m \u001b[1m20s\u001b[0m 61ms/step - accuracy: 0.9607 - loss: 0.2039 - val_accuracy: 0.8428 - val_loss: 1.7111\n",
            "Epoch 37/80\n",
            "\u001b[1m296/296\u001b[0m \u001b[32m━━━━━━━━━━━━━━━━━━━━\u001b[0m\u001b[37m\u001b[0m \u001b[1m18s\u001b[0m 60ms/step - accuracy: 0.9614 - loss: 0.1989 - val_accuracy: 0.8424 - val_loss: 1.7331\n",
            "Epoch 38/80\n",
            "\u001b[1m296/296\u001b[0m \u001b[32m━━━━━━━━━━━━━━━━━━━━\u001b[0m\u001b[37m\u001b[0m \u001b[1m18s\u001b[0m 60ms/step - accuracy: 0.9620 - loss: 0.1950 - val_accuracy: 0.8426 - val_loss: 1.7484\n",
            "Epoch 39/80\n",
            "\u001b[1m296/296\u001b[0m \u001b[32m━━━━━━━━━━━━━━━━━━━━\u001b[0m\u001b[37m\u001b[0m \u001b[1m21s\u001b[0m 61ms/step - accuracy: 0.9626 - loss: 0.1910 - val_accuracy: 0.8432 - val_loss: 1.7632\n",
            "Epoch 40/80\n",
            "\u001b[1m296/296\u001b[0m \u001b[32m━━━━━━━━━━━━━━━━━━━━\u001b[0m\u001b[37m\u001b[0m \u001b[1m20s\u001b[0m 58ms/step - accuracy: 0.9631 - loss: 0.1872 - val_accuracy: 0.8427 - val_loss: 1.7810\n",
            "Epoch 41/80\n",
            "\u001b[1m296/296\u001b[0m \u001b[32m━━━━━━━━━━━━━━━━━━━━\u001b[0m\u001b[37m\u001b[0m \u001b[1m21s\u001b[0m 59ms/step - accuracy: 0.9638 - loss: 0.1829 - val_accuracy: 0.8427 - val_loss: 1.7949\n",
            "Epoch 42/80\n",
            "\u001b[1m296/296\u001b[0m \u001b[32m━━━━━━━━━━━━━━━━━━━━\u001b[0m\u001b[37m\u001b[0m \u001b[1m18s\u001b[0m 59ms/step - accuracy: 0.9648 - loss: 0.1772 - val_accuracy: 0.8425 - val_loss: 1.8165\n",
            "Epoch 43/80\n",
            "\u001b[1m296/296\u001b[0m \u001b[32m━━━━━━━━━━━━━━━━━━━━\u001b[0m\u001b[37m\u001b[0m \u001b[1m20s\u001b[0m 58ms/step - accuracy: 0.9652 - loss: 0.1737 - val_accuracy: 0.8424 - val_loss: 1.8190\n",
            "Epoch 44/80\n",
            "\u001b[1m296/296\u001b[0m \u001b[32m━━━━━━━━━━━━━━━━━━━━\u001b[0m\u001b[37m\u001b[0m \u001b[1m17s\u001b[0m 59ms/step - accuracy: 0.9659 - loss: 0.1688 - val_accuracy: 0.8426 - val_loss: 1.8394\n",
            "Epoch 45/80\n",
            "\u001b[1m296/296\u001b[0m \u001b[32m━━━━━━━━━━━━━━━━━━━━\u001b[0m\u001b[37m\u001b[0m \u001b[1m21s\u001b[0m 61ms/step - accuracy: 0.9666 - loss: 0.1635 - val_accuracy: 0.8424 - val_loss: 1.8580\n",
            "Epoch 46/80\n",
            "\u001b[1m296/296\u001b[0m \u001b[32m━━━━━━━━━━━━━━━━━━━━\u001b[0m\u001b[37m\u001b[0m \u001b[1m20s\u001b[0m 61ms/step - accuracy: 0.9670 - loss: 0.1575 - val_accuracy: 0.8427 - val_loss: 1.8744\n",
            "Epoch 47/80\n",
            "\u001b[1m296/296\u001b[0m \u001b[32m━━━━━━━━━━━━━━━━━━━━\u001b[0m\u001b[37m\u001b[0m \u001b[1m20s\u001b[0m 59ms/step - accuracy: 0.9683 - loss: 0.1519 - val_accuracy: 0.8421 - val_loss: 1.8874\n",
            "Epoch 48/80\n",
            "\u001b[1m296/296\u001b[0m \u001b[32m━━━━━━━━━━━━━━━━━━━━\u001b[0m\u001b[37m\u001b[0m \u001b[1m21s\u001b[0m 61ms/step - accuracy: 0.9690 - loss: 0.1460 - val_accuracy: 0.8426 - val_loss: 1.9114\n",
            "Epoch 49/80\n",
            "\u001b[1m296/296\u001b[0m \u001b[32m━━━━━━━━━━━━━━━━━━━━\u001b[0m\u001b[37m\u001b[0m \u001b[1m21s\u001b[0m 61ms/step - accuracy: 0.9700 - loss: 0.1406 - val_accuracy: 0.8426 - val_loss: 1.9262\n",
            "Epoch 50/80\n",
            "\u001b[1m296/296\u001b[0m \u001b[32m━━━━━━━━━━━━━━━━━━━━\u001b[0m\u001b[37m\u001b[0m \u001b[1m17s\u001b[0m 59ms/step - accuracy: 0.9710 - loss: 0.1354 - val_accuracy: 0.8425 - val_loss: 1.9448\n",
            "Epoch 51/80\n",
            "\u001b[1m296/296\u001b[0m \u001b[32m━━━━━━━━━━━━━━━━━━━━\u001b[0m\u001b[37m\u001b[0m \u001b[1m17s\u001b[0m 59ms/step - accuracy: 0.9716 - loss: 0.1291 - val_accuracy: 0.8419 - val_loss: 1.9663\n",
            "Epoch 52/80\n",
            "\u001b[1m296/296\u001b[0m \u001b[32m━━━━━━━━━━━━━━━━━━━━\u001b[0m\u001b[37m\u001b[0m \u001b[1m18s\u001b[0m 59ms/step - accuracy: 0.9726 - loss: 0.1241 - val_accuracy: 0.8427 - val_loss: 1.9872\n",
            "Epoch 53/80\n",
            "\u001b[1m296/296\u001b[0m \u001b[32m━━━━━━━━━━━━━━━━━━━━\u001b[0m\u001b[37m\u001b[0m \u001b[1m21s\u001b[0m 61ms/step - accuracy: 0.9731 - loss: 0.1203 - val_accuracy: 0.8425 - val_loss: 1.9959\n",
            "Epoch 54/80\n",
            "\u001b[1m296/296\u001b[0m \u001b[32m━━━━━━━━━━━━━━━━━━━━\u001b[0m\u001b[37m\u001b[0m \u001b[1m20s\u001b[0m 59ms/step - accuracy: 0.9747 - loss: 0.1134 - val_accuracy: 0.8421 - val_loss: 2.0204\n",
            "Epoch 55/80\n",
            "\u001b[1m296/296\u001b[0m \u001b[32m━━━━━━━━━━━━━━━━━━━━\u001b[0m\u001b[37m\u001b[0m \u001b[1m21s\u001b[0m 59ms/step - accuracy: 0.9757 - loss: 0.1073 - val_accuracy: 0.8422 - val_loss: 2.0380\n",
            "Epoch 56/80\n",
            "\u001b[1m296/296\u001b[0m \u001b[32m━━━━━━━━━━━━━━━━━━━━\u001b[0m\u001b[37m\u001b[0m \u001b[1m21s\u001b[0m 60ms/step - accuracy: 0.9770 - loss: 0.1014 - val_accuracy: 0.8420 - val_loss: 2.0598\n",
            "Epoch 57/80\n",
            "\u001b[1m296/296\u001b[0m \u001b[32m━━━━━━━━━━━━━━━━━━━━\u001b[0m\u001b[37m\u001b[0m \u001b[1m20s\u001b[0m 60ms/step - accuracy: 0.9781 - loss: 0.0954 - val_accuracy: 0.8418 - val_loss: 2.0719\n",
            "Epoch 58/80\n",
            "\u001b[1m296/296\u001b[0m \u001b[32m━━━━━━━━━━━━━━━━━━━━\u001b[0m\u001b[37m\u001b[0m \u001b[1m18s\u001b[0m 62ms/step - accuracy: 0.9795 - loss: 0.0890 - val_accuracy: 0.8421 - val_loss: 2.0860\n",
            "Epoch 59/80\n",
            "\u001b[1m296/296\u001b[0m \u001b[32m━━━━━━━━━━━━━━━━━━━━\u001b[0m\u001b[37m\u001b[0m \u001b[1m18s\u001b[0m 61ms/step - accuracy: 0.9805 - loss: 0.0839 - val_accuracy: 0.8423 - val_loss: 2.1075\n",
            "Epoch 60/80\n",
            "\u001b[1m296/296\u001b[0m \u001b[32m━━━━━━━━━━━━━━━━━━━━\u001b[0m\u001b[37m\u001b[0m \u001b[1m20s\u001b[0m 60ms/step - accuracy: 0.9815 - loss: 0.0790 - val_accuracy: 0.8416 - val_loss: 2.1221\n",
            "Epoch 61/80\n",
            "\u001b[1m296/296\u001b[0m \u001b[32m━━━━━━━━━━━━━━━━━━━━\u001b[0m\u001b[37m\u001b[0m \u001b[1m21s\u001b[0m 61ms/step - accuracy: 0.9827 - loss: 0.0735 - val_accuracy: 0.8416 - val_loss: 2.1403\n",
            "Epoch 62/80\n",
            "\u001b[1m296/296\u001b[0m \u001b[32m━━━━━━━━━━━━━━━━━━━━\u001b[0m\u001b[37m\u001b[0m \u001b[1m20s\u001b[0m 61ms/step - accuracy: 0.9839 - loss: 0.0693 - val_accuracy: 0.8417 - val_loss: 2.1630\n",
            "Epoch 63/80\n",
            "\u001b[1m296/296\u001b[0m \u001b[32m━━━━━━━━━━━━━━━━━━━━\u001b[0m\u001b[37m\u001b[0m \u001b[1m18s\u001b[0m 61ms/step - accuracy: 0.9849 - loss: 0.0644 - val_accuracy: 0.8421 - val_loss: 2.1843\n",
            "Epoch 64/80\n",
            "\u001b[1m296/296\u001b[0m \u001b[32m━━━━━━━━━━━━━━━━━━━━\u001b[0m\u001b[37m\u001b[0m \u001b[1m20s\u001b[0m 59ms/step - accuracy: 0.9860 - loss: 0.0598 - val_accuracy: 0.8412 - val_loss: 2.1919\n",
            "Epoch 65/80\n",
            "\u001b[1m296/296\u001b[0m \u001b[32m━━━━━━━━━━━━━━━━━━━━\u001b[0m\u001b[37m\u001b[0m \u001b[1m21s\u001b[0m 61ms/step - accuracy: 0.9872 - loss: 0.0558 - val_accuracy: 0.8415 - val_loss: 2.2165\n",
            "Epoch 66/80\n",
            "\u001b[1m296/296\u001b[0m \u001b[32m━━━━━━━━━━━━━━━━━━━━\u001b[0m\u001b[37m\u001b[0m \u001b[1m20s\u001b[0m 59ms/step - accuracy: 0.9882 - loss: 0.0509 - val_accuracy: 0.8414 - val_loss: 2.2303\n",
            "Epoch 67/80\n",
            "\u001b[1m296/296\u001b[0m \u001b[32m━━━━━━━━━━━━━━━━━━━━\u001b[0m\u001b[37m\u001b[0m \u001b[1m18s\u001b[0m 59ms/step - accuracy: 0.9893 - loss: 0.0472 - val_accuracy: 0.8422 - val_loss: 2.2481\n",
            "Epoch 68/80\n",
            "\u001b[1m296/296\u001b[0m \u001b[32m━━━━━━━━━━━━━━━━━━━━\u001b[0m\u001b[37m\u001b[0m \u001b[1m17s\u001b[0m 59ms/step - accuracy: 0.9902 - loss: 0.0421 - val_accuracy: 0.8416 - val_loss: 2.2653\n",
            "Epoch 69/80\n",
            "\u001b[1m296/296\u001b[0m \u001b[32m━━━━━━━━━━━━━━━━━━━━\u001b[0m\u001b[37m\u001b[0m \u001b[1m21s\u001b[0m 59ms/step - accuracy: 0.9909 - loss: 0.0402 - val_accuracy: 0.8419 - val_loss: 2.2868\n",
            "Epoch 70/80\n",
            "\u001b[1m296/296\u001b[0m \u001b[32m━━━━━━━━━━━━━━━━━━━━\u001b[0m\u001b[37m\u001b[0m \u001b[1m21s\u001b[0m 61ms/step - accuracy: 0.9918 - loss: 0.0370 - val_accuracy: 0.8414 - val_loss: 2.2930\n",
            "Epoch 71/80\n",
            "\u001b[1m296/296\u001b[0m \u001b[32m━━━━━━━━━━━━━━━━━━━━\u001b[0m\u001b[37m\u001b[0m \u001b[1m20s\u001b[0m 61ms/step - accuracy: 0.9926 - loss: 0.0339 - val_accuracy: 0.8414 - val_loss: 2.3107\n",
            "Epoch 72/80\n",
            "\u001b[1m296/296\u001b[0m \u001b[32m━━━━━━━━━━━━━━━━━━━━\u001b[0m\u001b[37m\u001b[0m \u001b[1m20s\u001b[0m 61ms/step - accuracy: 0.9934 - loss: 0.0301 - val_accuracy: 0.8422 - val_loss: 2.3324\n",
            "Epoch 73/80\n",
            "\u001b[1m296/296\u001b[0m \u001b[32m━━━━━━━━━━━━━━━━━━━━\u001b[0m\u001b[37m\u001b[0m \u001b[1m18s\u001b[0m 60ms/step - accuracy: 0.9940 - loss: 0.0283 - val_accuracy: 0.8420 - val_loss: 2.3469\n",
            "Epoch 74/80\n",
            "\u001b[1m296/296\u001b[0m \u001b[32m━━━━━━━━━━━━━━━━━━━━\u001b[0m\u001b[37m\u001b[0m \u001b[1m18s\u001b[0m 59ms/step - accuracy: 0.9946 - loss: 0.0247 - val_accuracy: 0.8417 - val_loss: 2.3540\n",
            "Epoch 75/80\n",
            "\u001b[1m296/296\u001b[0m \u001b[32m━━━━━━━━━━━━━━━━━━━━\u001b[0m\u001b[37m\u001b[0m \u001b[1m18s\u001b[0m 60ms/step - accuracy: 0.9949 - loss: 0.0237 - val_accuracy: 0.8418 - val_loss: 2.3625\n",
            "Epoch 76/80\n",
            "\u001b[1m296/296\u001b[0m \u001b[32m━━━━━━━━━━━━━━━━━━━━\u001b[0m\u001b[37m\u001b[0m \u001b[1m21s\u001b[0m 61ms/step - accuracy: 0.9954 - loss: 0.0217 - val_accuracy: 0.8416 - val_loss: 2.3750\n",
            "Epoch 77/80\n",
            "\u001b[1m296/296\u001b[0m \u001b[32m━━━━━━━━━━━━━━━━━━━━\u001b[0m\u001b[37m\u001b[0m \u001b[1m20s\u001b[0m 59ms/step - accuracy: 0.9957 - loss: 0.0203 - val_accuracy: 0.8421 - val_loss: 2.3848\n",
            "Epoch 78/80\n",
            "\u001b[1m296/296\u001b[0m \u001b[32m━━━━━━━━━━━━━━━━━━━━\u001b[0m\u001b[37m\u001b[0m \u001b[1m18s\u001b[0m 60ms/step - accuracy: 0.9961 - loss: 0.0184 - val_accuracy: 0.8412 - val_loss: 2.3986\n",
            "Epoch 79/80\n",
            "\u001b[1m296/296\u001b[0m \u001b[32m━━━━━━━━━━━━━━━━━━━━\u001b[0m\u001b[37m\u001b[0m \u001b[1m18s\u001b[0m 61ms/step - accuracy: 0.9963 - loss: 0.0173 - val_accuracy: 0.8416 - val_loss: 2.4129\n",
            "Epoch 80/80\n",
            "\u001b[1m296/296\u001b[0m \u001b[32m━━━━━━━━━━━━━━━━━━━━\u001b[0m\u001b[37m\u001b[0m \u001b[1m18s\u001b[0m 60ms/step - accuracy: 0.9968 - loss: 0.0156 - val_accuracy: 0.8414 - val_loss: 2.4226\n"
          ]
        }
      ],
      "source": [
        "from tensorflow.keras.optimizers import Adam\n",
        "\n",
        "decoder_teacher_forcing_model.compile(\n",
        "    loss = 'sparse_categorical_crossentropy',\n",
        "    optimizer=Adam(learning_rate=0.001),  # 학습률 명시적 설정\n",
        "    metrics=['accuracy']\n",
        ")\n",
        "\n",
        "# 데이터 형태 확인\n",
        "print(\"Input shapes:\")\n",
        "print(\"q_inputs_padded:\", q_inputs_padded.shape)\n",
        "print(\"a_inputs_padded:\", a_inputs_padded.shape)\n",
        "print(\"a_targets_padded:\", a_targets_padded.shape)\n",
        "print(\"\\nVocab size:\", vocab_size)\n",
        "print(\"Max target value:\", np.max(a_targets_padded))\n",
        "\n",
        "history = decoder_teacher_forcing_model.fit(\n",
        "    [q_inputs_padded, a_inputs_padded],\n",
        "    a_targets_padded,\n",
        "\n",
        "    batch_size=32,\n",
        "    epochs=80,  # 우선 10 에폭으로 테스트\n",
        "    validation_split=0.2,\n",
        "    verbose=1\n",
        ")"
      ]
    },
    {
      "cell_type": "markdown",
      "id": "b690eabb",
      "metadata": {
        "id": "b690eabb"
      },
      "source": [
        "##### 디코더(추론 모델 생성) & 추론 함수 생성\n"
      ]
    },
    {
      "cell_type": "code",
      "execution_count": 25,
      "id": "QfagSfr0Croa",
      "metadata": {
        "colab": {
          "base_uri": "https://localhost:8080/",
          "height": 430
        },
        "id": "QfagSfr0Croa",
        "outputId": "ba4925b4-6ffa-4f8c-e899-2883f4f47b78"
      },
      "outputs": [
        {
          "data": {
            "image/png": "[encoded data removed]",
            "text/plain": [
              "<Figure size 640x480 with 1 Axes>"
            ]
          },
          "metadata": {},
          "output_type": "display_data"
        }
      ],
      "source": [
        "import matplotlib.pyplot as plt\n",
        "pd.DataFrame(history.history).plot()\n",
        "plt.show()"
      ]
    },
    {
      "cell_type": "code",
      "execution_count": 26,
      "id": "0EGeV3y-C6K4",
      "metadata": {
        "id": "0EGeV3y-C6K4"
      },
      "outputs": [],
      "source": [
        "decoder_teacher_forcing_model.save('decoder_teacher_forcing_model.keras')\n"
      ]
    },
    {
      "cell_type": "code",
      "execution_count": 27,
      "id": "qYz5vMjJC9Gz",
      "metadata": {
        "id": "qYz5vMjJC9Gz"
      },
      "outputs": [],
      "source": [
        "from tensorflow.keras.models import load_model\n",
        "decoder_teacher_forcing_model = load_model('decoder_teacher_forcing_model.keras')"
      ]
    },
    {
      "cell_type": "markdown",
      "id": "1bff5ce5",
      "metadata": {
        "id": "1bff5ce5"
      },
      "source": [
        "##### 테스트"
      ]
    },
    {
      "cell_type": "markdown",
      "id": "0d796014",
      "metadata": {
        "id": "0d796014"
      },
      "source": [
        "### 간단한 Chatbot 구현"
      ]
    },
    {
      "cell_type": "markdown",
      "id": "ea504f2a",
      "metadata": {
        "id": "ea504f2a"
      },
      "source": [
        "1. 사용자의 입력을 받아서(처리)\n",
        "\n",
        "2. 추론 함쉥 전달해서\n",
        "\n",
        "3. 응답을 출력\n",
        "\n",
        "4. 1~3 을 종료 전까지 반복"
      ]
    },
    {
      "cell_type": "code",
      "execution_count": 44,
      "id": "d05878c7",
      "metadata": {
        "colab": {
          "base_uri": "https://localhost:8080/",
          "height": 417
        },
        "id": "d05878c7",
        "outputId": "ef2fa56d-7736-4c3f-e83f-35b088b22779"
      },
      "outputs": [
        {
          "data": {
            "text/html": [
              "<pre style=\"white-space:pre;overflow-x:auto;line-height:normal;font-family:Menlo,'DejaVu Sans Mono',consolas,'Courier New',monospace\"><span style=\"font-weight: bold\">Model: \"functional_6\"</span>\n",
              "</pre>\n"
            ],
            "text/plain": [
              "\u001b[1mModel: \"functional_6\"\u001b[0m\n"
            ]
          },
          "metadata": {},
          "output_type": "display_data"
        },
        {
          "data": {
            "text/html": [
              "<pre style=\"white-space:pre;overflow-x:auto;line-height:normal;font-family:Menlo,'DejaVu Sans Mono',consolas,'Courier New',monospace\">┏━━━━━━━━━━━━━━━━━━━━━┳━━━━━━━━━━━━━━━━━━━┳━━━━━━━━━━━━┳━━━━━━━━━━━━━━━━━━━┓\n",
              "┃<span style=\"font-weight: bold\"> Layer (type)        </span>┃<span style=\"font-weight: bold\"> Output Shape      </span>┃<span style=\"font-weight: bold\">    Param # </span>┃<span style=\"font-weight: bold\"> Connected to      </span>┃\n",
              "┡━━━━━━━━━━━━━━━━━━━━━╇━━━━━━━━━━━━━━━━━━━╇━━━━━━━━━━━━╇━━━━━━━━━━━━━━━━━━━┩\n",
              "│ input_layer_14      │ (<span style=\"color: #00d7ff; text-decoration-color: #00d7ff\">None</span>, <span style=\"color: #00af00; text-decoration-color: #00af00\">1</span>)         │          <span style=\"color: #00af00; text-decoration-color: #00af00\">0</span> │ -                 │\n",
              "│ (<span style=\"color: #0087ff; text-decoration-color: #0087ff\">InputLayer</span>)        │                   │            │                   │\n",
              "├─────────────────────┼───────────────────┼────────────┼───────────────────┤\n",
              "│ embedding_2         │ (<span style=\"color: #00d7ff; text-decoration-color: #00d7ff\">None</span>, <span style=\"color: #00af00; text-decoration-color: #00af00\">1</span>, <span style=\"color: #00af00; text-decoration-color: #00af00\">100</span>)    │    <span style=\"color: #00af00; text-decoration-color: #00af00\">900,000</span> │ input_layer_14[<span style=\"color: #00af00; text-decoration-color: #00af00\">0</span>… │\n",
              "│ (<span style=\"color: #0087ff; text-decoration-color: #0087ff\">Embedding</span>)         │                   │            │                   │\n",
              "├─────────────────────┼───────────────────┼────────────┼───────────────────┤\n",
              "│ input_layer_12      │ (<span style=\"color: #00d7ff; text-decoration-color: #00d7ff\">None</span>, <span style=\"color: #00af00; text-decoration-color: #00af00\">512</span>)       │          <span style=\"color: #00af00; text-decoration-color: #00af00\">0</span> │ -                 │\n",
              "│ (<span style=\"color: #0087ff; text-decoration-color: #0087ff\">InputLayer</span>)        │                   │            │                   │\n",
              "├─────────────────────┼───────────────────┼────────────┼───────────────────┤\n",
              "│ input_layer_13      │ (<span style=\"color: #00d7ff; text-decoration-color: #00d7ff\">None</span>, <span style=\"color: #00af00; text-decoration-color: #00af00\">512</span>)       │          <span style=\"color: #00af00; text-decoration-color: #00af00\">0</span> │ -                 │\n",
              "│ (<span style=\"color: #0087ff; text-decoration-color: #0087ff\">InputLayer</span>)        │                   │            │                   │\n",
              "├─────────────────────┼───────────────────┼────────────┼───────────────────┤\n",
              "│ lstm_2 (<span style=\"color: #0087ff; text-decoration-color: #0087ff\">LSTM</span>)       │ [(<span style=\"color: #00d7ff; text-decoration-color: #00d7ff\">None</span>, <span style=\"color: #00af00; text-decoration-color: #00af00\">1</span>, <span style=\"color: #00af00; text-decoration-color: #00af00\">512</span>),  │  <span style=\"color: #00af00; text-decoration-color: #00af00\">1,255,424</span> │ embedding_2[<span style=\"color: #00af00; text-decoration-color: #00af00\">4</span>][<span style=\"color: #00af00; text-decoration-color: #00af00\">0</span>… │\n",
              "│                     │ (<span style=\"color: #00d7ff; text-decoration-color: #00d7ff\">None</span>, <span style=\"color: #00af00; text-decoration-color: #00af00\">512</span>),      │            │ input_layer_12[<span style=\"color: #00af00; text-decoration-color: #00af00\">0</span>… │\n",
              "│                     │ (<span style=\"color: #00d7ff; text-decoration-color: #00d7ff\">None</span>, <span style=\"color: #00af00; text-decoration-color: #00af00\">512</span>)]      │            │ input_layer_13[<span style=\"color: #00af00; text-decoration-color: #00af00\">0</span>… │\n",
              "├─────────────────────┼───────────────────┼────────────┼───────────────────┤\n",
              "│ dense_1 (<span style=\"color: #0087ff; text-decoration-color: #0087ff\">Dense</span>)     │ (<span style=\"color: #00d7ff; text-decoration-color: #00d7ff\">None</span>, <span style=\"color: #00af00; text-decoration-color: #00af00\">1</span>, <span style=\"color: #00af00; text-decoration-color: #00af00\">9000</span>)   │  <span style=\"color: #00af00; text-decoration-color: #00af00\">4,617,000</span> │ lstm_2[<span style=\"color: #00af00; text-decoration-color: #00af00\">3</span>][<span style=\"color: #00af00; text-decoration-color: #00af00\">0</span>]      │\n",
              "└─────────────────────┴───────────────────┴────────────┴───────────────────┘\n",
              "</pre>\n"
            ],
            "text/plain": [
              "┏━━━━━━━━━━━━━━━━━━━━━┳━━━━━━━━━━━━━━━━━━━┳━━━━━━━━━━━━┳━━━━━━━━━━━━━━━━━━━┓\n",
              "┃\u001b[1m \u001b[0m\u001b[1mLayer (type)       \u001b[0m\u001b[1m \u001b[0m┃\u001b[1m \u001b[0m\u001b[1mOutput Shape     \u001b[0m\u001b[1m \u001b[0m┃\u001b[1m \u001b[0m\u001b[1m   Param #\u001b[0m\u001b[1m \u001b[0m┃\u001b[1m \u001b[0m\u001b[1mConnected to     \u001b[0m\u001b[1m \u001b[0m┃\n",
              "┡━━━━━━━━━━━━━━━━━━━━━╇━━━━━━━━━━━━━━━━━━━╇━━━━━━━━━━━━╇━━━━━━━━━━━━━━━━━━━┩\n",
              "│ input_layer_14      │ (\u001b[38;5;45mNone\u001b[0m, \u001b[38;5;34m1\u001b[0m)         │          \u001b[38;5;34m0\u001b[0m │ -                 │\n",
              "│ (\u001b[38;5;33mInputLayer\u001b[0m)        │                   │            │                   │\n",
              "├─────────────────────┼───────────────────┼────────────┼───────────────────┤\n",
              "│ embedding_2         │ (\u001b[38;5;45mNone\u001b[0m, \u001b[38;5;34m1\u001b[0m, \u001b[38;5;34m100\u001b[0m)    │    \u001b[38;5;34m900,000\u001b[0m │ input_layer_14[\u001b[38;5;34m0\u001b[0m… │\n",
              "│ (\u001b[38;5;33mEmbedding\u001b[0m)         │                   │            │                   │\n",
              "├─────────────────────┼───────────────────┼────────────┼───────────────────┤\n",
              "│ input_layer_12      │ (\u001b[38;5;45mNone\u001b[0m, \u001b[38;5;34m512\u001b[0m)       │          \u001b[38;5;34m0\u001b[0m │ -                 │\n",
              "│ (\u001b[38;5;33mInputLayer\u001b[0m)        │                   │            │                   │\n",
              "├─────────────────────┼───────────────────┼────────────┼───────────────────┤\n",
              "│ input_layer_13      │ (\u001b[38;5;45mNone\u001b[0m, \u001b[38;5;34m512\u001b[0m)       │          \u001b[38;5;34m0\u001b[0m │ -                 │\n",
              "│ (\u001b[38;5;33mInputLayer\u001b[0m)        │                   │            │                   │\n",
              "├─────────────────────┼───────────────────┼────────────┼───────────────────┤\n",
              "│ lstm_2 (\u001b[38;5;33mLSTM\u001b[0m)       │ [(\u001b[38;5;45mNone\u001b[0m, \u001b[38;5;34m1\u001b[0m, \u001b[38;5;34m512\u001b[0m),  │  \u001b[38;5;34m1,255,424\u001b[0m │ embedding_2[\u001b[38;5;34m4\u001b[0m][\u001b[38;5;34m0\u001b[0m… │\n",
              "│                     │ (\u001b[38;5;45mNone\u001b[0m, \u001b[38;5;34m512\u001b[0m),      │            │ input_layer_12[\u001b[38;5;34m0\u001b[0m… │\n",
              "│                     │ (\u001b[38;5;45mNone\u001b[0m, \u001b[38;5;34m512\u001b[0m)]      │            │ input_layer_13[\u001b[38;5;34m0\u001b[0m… │\n",
              "├─────────────────────┼───────────────────┼────────────┼───────────────────┤\n",
              "│ dense_1 (\u001b[38;5;33mDense\u001b[0m)     │ (\u001b[38;5;45mNone\u001b[0m, \u001b[38;5;34m1\u001b[0m, \u001b[38;5;34m9000\u001b[0m)   │  \u001b[38;5;34m4,617,000\u001b[0m │ lstm_2[\u001b[38;5;34m3\u001b[0m][\u001b[38;5;34m0\u001b[0m]      │\n",
              "└─────────────────────┴───────────────────┴────────────┴───────────────────┘\n"
            ]
          },
          "metadata": {},
          "output_type": "display_data"
        },
        {
          "data": {
            "text/html": [
              "<pre style=\"white-space:pre;overflow-x:auto;line-height:normal;font-family:Menlo,'DejaVu Sans Mono',consolas,'Courier New',monospace\"><span style=\"font-weight: bold\"> Total params: </span><span style=\"color: #00af00; text-decoration-color: #00af00\">6,772,424</span> (25.83 MB)\n",
              "</pre>\n"
            ],
            "text/plain": [
              "\u001b[1m Total params: \u001b[0m\u001b[38;5;34m6,772,424\u001b[0m (25.83 MB)\n"
            ]
          },
          "metadata": {},
          "output_type": "display_data"
        },
        {
          "data": {
            "text/html": [
              "<pre style=\"white-space:pre;overflow-x:auto;line-height:normal;font-family:Menlo,'DejaVu Sans Mono',consolas,'Courier New',monospace\"><span style=\"font-weight: bold\"> Trainable params: </span><span style=\"color: #00af00; text-decoration-color: #00af00\">6,772,424</span> (25.83 MB)\n",
              "</pre>\n"
            ],
            "text/plain": [
              "\u001b[1m Trainable params: \u001b[0m\u001b[38;5;34m6,772,424\u001b[0m (25.83 MB)\n"
            ]
          },
          "metadata": {},
          "output_type": "display_data"
        },
        {
          "data": {
            "text/html": [
              "<pre style=\"white-space:pre;overflow-x:auto;line-height:normal;font-family:Menlo,'DejaVu Sans Mono',consolas,'Courier New',monospace\"><span style=\"font-weight: bold\"> Non-trainable params: </span><span style=\"color: #00af00; text-decoration-color: #00af00\">0</span> (0.00 B)\n",
              "</pre>\n"
            ],
            "text/plain": [
              "\u001b[1m Non-trainable params: \u001b[0m\u001b[38;5;34m0\u001b[0m (0.00 B)\n"
            ]
          },
          "metadata": {},
          "output_type": "display_data"
        }
      ],
      "source": [
        "decoder_hidden_state = layers.Input(shape=(LATENT_DIM,))\n",
        "decoder_cell_state = layers.Input(shape=(LATENT_DIM,))\n",
        "decoder_states_inputs = [decoder_hidden_state, decoder_cell_state]\n",
        "\n",
        "decoder_single_input = layers.Input(shape=(1,))\n",
        "\n",
        "single_decoder_embedding = a_embedding_layer(decoder_single_input)\n",
        "\n",
        "lstm_outputs, h, c = decoder_lstm(single_decoder_embedding, initial_state=decoder_states_inputs)\n",
        "decoder_states = [h, c]\n",
        "\n",
        "decoder_outputs_ = decoder_dense(lstm_outputs)\n",
        "\n",
        "decoder_inference_model = models.Model(\n",
        "    inputs = [decoder_single_input] + decoder_states_inputs,\n",
        "    outputs = [decoder_outputs_] + decoder_states\n",
        ")\n",
        "\n",
        "decoder_inference_model.summary()"
      ]
    },
    {
      "cell_type": "code",
      "execution_count": 58,
      "id": "NtvXU3jtD6YW",
      "metadata": {
        "id": "NtvXU3jtD6YW"
      },
      "outputs": [],
      "source": [
        "def translate(question):\n",
        "    # Encode the input question using the SentencePiece processor\n",
        "    input_seq = sp.encode_as_ids(question)\n",
        "    input_seq = pad_sequences([input_seq], maxlen=q_max_len, padding='post')\n",
        "\n",
        "    # Get the initial states from the encoder\n",
        "    encoder_states_value = encoder_model.predict(input_seq)\n",
        "    decoder_states_value = encoder_states_value\n",
        "\n",
        "    # Prepare the initial input for the decoder (the start token)\n",
        "    target_seq = np.zeros((1, 1))\n",
        "    target_seq[0, 0] = sp.bos_id()  # Use SentencePiece beginning of sentence token\n",
        "\n",
        "    output_sentence = []\n",
        "\n",
        "    # Generate the response token by token\n",
        "    for _ in range(a_max_len):  # Use a_max_len for the maximum output length\n",
        "        output_tokens, h, c = decoder_inference_model.predict([target_seq] + decoder_states_value)\n",
        "\n",
        "        # Sample a token from the probability distribution (using argmax for simplicity)\n",
        "        pred_index = np.argmax(output_tokens[0, -1, :])\n",
        "\n",
        "        # Stop if the end of sentence token is predicted\n",
        "        if pred_index == sp.eos_id():  # Use SentencePiece end of sentence token\n",
        "            break\n",
        "\n",
        "        # Append the predicted token to the output sentence\n",
        "        # Explicitly cast pred_index to int\n",
        "        word = sp.id_to_piece(int(pred_index))  # Use SentencePiece to convert id to piece\n",
        "        output_sentence.append(word)\n",
        "\n",
        "\n",
        "        # Update the target sequence and decoder states for the next iteration\n",
        "        target_seq[0, 0] = pred_index\n",
        "        decoder_states_value = [h, c]\n",
        "\n",
        "    return \"\".join(output_sentence).strip() # Join pieces and remove leading/trailing whitespace"
      ]
    },
    {
      "cell_type": "code",
      "execution_count": 66,
      "id": "NcUBq8VHEEyO",
      "metadata": {
        "colab": {
          "base_uri": "https://localhost:8080/"
        },
        "id": "NcUBq8VHEEyO",
        "outputId": "034ab1f7-410c-4cbf-eea8-83ea441ee135"
      },
      "outputs": [
        {
          "name": "stdout",
          "output_type": "stream",
          "text": [
            "\u001b[1m1/1\u001b[0m \u001b[32m━━━━━━━━━━━━━━━━━━━━\u001b[0m\u001b[37m\u001b[0m \u001b[1m0s\u001b[0m 31ms/step\n",
            "\u001b[1m1/1\u001b[0m \u001b[32m━━━━━━━━━━━━━━━━━━━━\u001b[0m\u001b[37m\u001b[0m \u001b[1m0s\u001b[0m 31ms/step\n",
            "\u001b[1m1/1\u001b[0m \u001b[32m━━━━━━━━━━━━━━━━━━━━\u001b[0m\u001b[37m\u001b[0m \u001b[1m0s\u001b[0m 31ms/step\n",
            "\u001b[1m1/1\u001b[0m \u001b[32m━━━━━━━━━━━━━━━━━━━━\u001b[0m\u001b[37m\u001b[0m \u001b[1m0s\u001b[0m 30ms/step\n",
            "\u001b[1m1/1\u001b[0m \u001b[32m━━━━━━━━━━━━━━━━━━━━\u001b[0m\u001b[37m\u001b[0m \u001b[1m0s\u001b[0m 30ms/step\n",
            "\u001b[1m1/1\u001b[0m \u001b[32m━━━━━━━━━━━━━━━━━━━━\u001b[0m\u001b[37m\u001b[0m \u001b[1m0s\u001b[0m 30ms/step\n",
            "\u001b[1m1/1\u001b[0m \u001b[32m━━━━━━━━━━━━━━━━━━━━\u001b[0m\u001b[37m\u001b[0m \u001b[1m0s\u001b[0m 29ms/step\n",
            "\u001b[1m1/1\u001b[0m \u001b[32m━━━━━━━━━━━━━━━━━━━━\u001b[0m\u001b[37m\u001b[0m \u001b[1m0s\u001b[0m 29ms/step\n",
            "\u001b[1m1/1\u001b[0m \u001b[32m━━━━━━━━━━━━━━━━━━━━\u001b[0m\u001b[37m\u001b[0m \u001b[1m0s\u001b[0m 30ms/step\n",
            "\u001b[1m1/1\u001b[0m \u001b[32m━━━━━━━━━━━━━━━━━━━━\u001b[0m\u001b[37m\u001b[0m \u001b[1m0s\u001b[0m 30ms/step\n",
            "\u001b[1m1/1\u001b[0m \u001b[32m━━━━━━━━━━━━━━━━━━━━\u001b[0m\u001b[37m\u001b[0m \u001b[1m0s\u001b[0m 30ms/step\n",
            "\u001b[1m1/1\u001b[0m \u001b[32m━━━━━━━━━━━━━━━━━━━━\u001b[0m\u001b[37m\u001b[0m \u001b[1m0s\u001b[0m 42ms/step\n",
            "Q: 심심해\n",
            "A: 노래 불러 드릴까요? 북치기박치기 헥헥\n",
            "\n",
            "\u001b[1m1/1\u001b[0m \u001b[32m━━━━━━━━━━━━━━━━━━━━\u001b[0m\u001b[37m\u001b[0m \u001b[1m0s\u001b[0m 28ms/step\n",
            "\u001b[1m1/1\u001b[0m \u001b[32m━━━━━━━━━━━━━━━━━━━━\u001b[0m\u001b[37m\u001b[0m \u001b[1m0s\u001b[0m 30ms/step\n",
            "\u001b[1m1/1\u001b[0m \u001b[32m━━━━━━━━━━━━━━━━━━━━\u001b[0m\u001b[37m\u001b[0m \u001b[1m0s\u001b[0m 30ms/step\n",
            "\u001b[1m1/1\u001b[0m \u001b[32m━━━━━━━━━━━━━━━━━━━━\u001b[0m\u001b[37m\u001b[0m \u001b[1m0s\u001b[0m 30ms/step\n",
            "\u001b[1m1/1\u001b[0m \u001b[32m━━━━━━━━━━━━━━━━━━━━\u001b[0m\u001b[37m\u001b[0m \u001b[1m0s\u001b[0m 30ms/step\n",
            "\u001b[1m1/1\u001b[0m \u001b[32m━━━━━━━━━━━━━━━━━━━━\u001b[0m\u001b[37m\u001b[0m \u001b[1m0s\u001b[0m 30ms/step\n",
            "\u001b[1m1/1\u001b[0m \u001b[32m━━━━━━━━━━━━━━━━━━━━\u001b[0m\u001b[37m\u001b[0m \u001b[1m0s\u001b[0m 30ms/step\n",
            "\u001b[1m1/1\u001b[0m \u001b[32m━━━━━━━━━━━━━━━━━━━━\u001b[0m\u001b[37m\u001b[0m \u001b[1m0s\u001b[0m 30ms/step\n",
            "\u001b[1m1/1\u001b[0m \u001b[32m━━━━━━━━━━━━━━━━━━━━\u001b[0m\u001b[37m\u001b[0m \u001b[1m0s\u001b[0m 29ms/step\n",
            "\u001b[1m1/1\u001b[0m \u001b[32m━━━━━━━━━━━━━━━━━━━━\u001b[0m\u001b[37m\u001b[0m \u001b[1m0s\u001b[0m 29ms/step\n",
            "Q: 오늘 날씨 어때?\n",
            "A: 집밖에 나가기가 힘들것 같아요.\n",
            "\n",
            "\u001b[1m1/1\u001b[0m \u001b[32m━━━━━━━━━━━━━━━━━━━━\u001b[0m\u001b[37m\u001b[0m \u001b[1m0s\u001b[0m 26ms/step\n",
            "\u001b[1m1/1\u001b[0m \u001b[32m━━━━━━━━━━━━━━━━━━━━\u001b[0m\u001b[37m\u001b[0m \u001b[1m0s\u001b[0m 33ms/step\n",
            "\u001b[1m1/1\u001b[0m \u001b[32m━━━━━━━━━━━━━━━━━━━━\u001b[0m\u001b[37m\u001b[0m \u001b[1m0s\u001b[0m 30ms/step\n",
            "\u001b[1m1/1\u001b[0m \u001b[32m━━━━━━━━━━━━━━━━━━━━\u001b[0m\u001b[37m\u001b[0m \u001b[1m0s\u001b[0m 33ms/step\n",
            "\u001b[1m1/1\u001b[0m \u001b[32m━━━━━━━━━━━━━━━━━━━━\u001b[0m\u001b[37m\u001b[0m \u001b[1m0s\u001b[0m 32ms/step\n",
            "\u001b[1m1/1\u001b[0m \u001b[32m━━━━━━━━━━━━━━━━━━━━\u001b[0m\u001b[37m\u001b[0m \u001b[1m0s\u001b[0m 31ms/step\n",
            "\u001b[1m1/1\u001b[0m \u001b[32m━━━━━━━━━━━━━━━━━━━━\u001b[0m\u001b[37m\u001b[0m \u001b[1m0s\u001b[0m 31ms/step\n",
            "\u001b[1m1/1\u001b[0m \u001b[32m━━━━━━━━━━━━━━━━━━━━\u001b[0m\u001b[37m\u001b[0m \u001b[1m0s\u001b[0m 30ms/step\n",
            "Q: 사랑이란 뭘까?\n",
            "A: 사랑에는 답이 없어요.\n",
            "\n"
          ]
        }
      ],
      "source": [
        "# Example usage:\n",
        "questions = [\"심심해\", \"오늘 날씨 어때?\", \"사랑이란 뭘까?\"]\n",
        "\n",
        "for question in questions:\n",
        "    answer = translate(question).replace(\"▁\",\" \") # Changed function call to\n",
        "    answer=answer[1:len(answer)]\n",
        "    print(f\"Q: {question}\")\n",
        "    print(f\"A: {answer}\\n\")"
      ]
    },
    {
      "cell_type": "code",
      "execution_count": null,
      "id": "609SMgkkZqak",
      "metadata": {
        "id": "609SMgkkZqak"
      },
      "outputs": [],
      "source": []
    }
  ],
  "metadata": {
    "accelerator": "GPU",
    "colab": {
      "gpuType": "T4",
      "provenance": []
    },
    "kernelspec": {
      "display_name": "Python 3",
      "name": "python3"
    },
    "language_info": {
      "codemirror_mode": {
        "name": "ipython",
        "version": 3
      },
      "file_extension": ".py",
      "mimetype": "text/x-python",
      "name": "python",
      "nbconvert_exporter": "python",
      "pygments_lexer": "ipython3",
      "version": "3.12.11"
    }
  },
  "nbformat": 4,
  "nbformat_minor": 5
}
